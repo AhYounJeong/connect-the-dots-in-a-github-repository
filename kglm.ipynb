{
  "nbformat": 4,
  "nbformat_minor": 0,
  "metadata": {
    "colab": {
      "name": "Untitled10.ipynb",
      "provenance": [],
      "collapsed_sections": [],
      "authorship_tag": "ABX9TyN3/b8OO2lApC0E6bxbcsAj",
      "include_colab_link": true
    },
    "kernelspec": {
      "name": "python3",
      "display_name": "Python 3"
    },
    "language_info": {
      "name": "python"
    },
    "accelerator": "GPU",
    "gpuClass": "standard"
  },
  "cells": [
    {
      "cell_type": "markdown",
      "metadata": {
        "id": "view-in-github",
        "colab_type": "text"
      },
      "source": [
        "<a href=\"https://colab.research.google.com/github/AhYounJeong/connect-the-dots-in-a-github-repository/blob/main/kglm.ipynb\" target=\"_parent\"><img src=\"https://colab.research.google.com/assets/colab-badge.svg\" alt=\"Open In Colab\"/></a>"
      ]
    },
    {
      "cell_type": "code",
      "execution_count": 2,
      "metadata": {
        "colab": {
          "base_uri": "https://localhost:8080/"
        },
        "id": "8_wfu1XBvN2K",
        "outputId": "f04b5281-7eb1-4074-c038-7f666fd0933b"
      },
      "outputs": [
        {
          "output_type": "stream",
          "name": "stdout",
          "text": [
            "Mounted at /content/drive\n"
          ]
        }
      ],
      "source": [
        "from google.colab import drive\n",
        "drive.mount('/content/drive')"
      ]
    },
    {
      "cell_type": "code",
      "source": [
        "!git clone https://github.com/rloganiv/kglm-model.git"
      ],
      "metadata": {
        "colab": {
          "base_uri": "https://localhost:8080/"
        },
        "id": "fIvcWE-2vcI5",
        "outputId": "db0b16aa-2a9d-42a6-b4eb-d290c9e05b34"
      },
      "execution_count": 3,
      "outputs": [
        {
          "output_type": "stream",
          "name": "stdout",
          "text": [
            "Cloning into 'kglm-model'...\n",
            "remote: Enumerating objects: 2237, done.\u001b[K\n",
            "remote: Counting objects: 100% (430/430), done.\u001b[K\n",
            "remote: Compressing objects: 100% (135/135), done.\u001b[K\n",
            "remote: Total 2237 (delta 306), reused 397 (delta 294), pack-reused 1807\u001b[K\n",
            "Receiving objects: 100% (2237/2237), 3.33 MiB | 2.93 MiB/s, done.\n",
            "Resolving deltas: 100% (1522/1522), done.\n"
          ]
        }
      ]
    },
    {
      "cell_type": "code",
      "source": [
        "%cd  /content/kglm-model"
      ],
      "metadata": {
        "colab": {
          "base_uri": "https://localhost:8080/"
        },
        "id": "wOpe1AV53CBL",
        "outputId": "89e254a0-034e-46bb-cf16-b982acd7b769"
      },
      "execution_count": 4,
      "outputs": [
        {
          "output_type": "stream",
          "name": "stdout",
          "text": [
            "/content/kglm-model\n"
          ]
        }
      ]
    },
    {
      "cell_type": "code",
      "source": [
        "! git config --global url.https://github.com/.insteadOf git://github.com/"
      ],
      "metadata": {
        "id": "OVGKBHQevycK"
      },
      "execution_count": 5,
      "outputs": []
    },
    {
      "cell_type": "code",
      "source": [
        "! pip install -r /content/kglm-model/requirements.txt\n"
      ],
      "metadata": {
        "colab": {
          "base_uri": "https://localhost:8080/",
          "height": 1000
        },
        "id": "e5Yi--S7v21s",
        "outputId": "752f6f35-e8d0-42e4-b774-f007ee547f7e"
      },
      "execution_count": 8,
      "outputs": [
        {
          "output_type": "stream",
          "name": "stdout",
          "text": [
            "Looking in indexes: https://pypi.org/simple, https://us-python.pkg.dev/colab-wheels/public/simple/\n",
            "Collecting git+git://github.com/rloganiv/allennlp.git@pytorch-grad-clip (from -r /content/kglm-model/requirements.txt (line 2))\n",
            "  Cloning git://github.com/rloganiv/allennlp.git (to revision pytorch-grad-clip) to /tmp/pip-req-build-9jqizznb\n",
            "  Running command git clone -q git://github.com/rloganiv/allennlp.git /tmp/pip-req-build-9jqizznb\n",
            "  Running command git checkout -b pytorch-grad-clip --track origin/pytorch-grad-clip\n",
            "  Switched to a new branch 'pytorch-grad-clip'\n",
            "  Branch 'pytorch-grad-clip' set up to track remote branch 'pytorch-grad-clip' from 'origin'.\n",
            "Collecting torch==1.1.0\n",
            "  Downloading torch-1.1.0-cp37-cp37m-manylinux1_x86_64.whl (676.9 MB)\n",
            "\u001b[K     |████████████████████████████████| 676.9 MB 4.0 kB/s \n",
            "\u001b[?25hCollecting pytest-cov\n",
            "  Downloading pytest_cov-3.0.0-py3-none-any.whl (20 kB)\n",
            "Collecting codecov\n",
            "  Downloading codecov-2.1.12-py2.py3-none-any.whl (16 kB)\n",
            "Requirement already satisfied: overrides in /usr/local/lib/python3.7/dist-packages (from allennlp===0.8.2-unreleased->-r /content/kglm-model/requirements.txt (line 2)) (3.1.0)\n",
            "Requirement already satisfied: nltk in /usr/local/lib/python3.7/dist-packages (from allennlp===0.8.2-unreleased->-r /content/kglm-model/requirements.txt (line 2)) (3.7)\n",
            "Collecting msgpack<0.6.0,>=0.5.6\n",
            "  Downloading msgpack-0.5.6.tar.gz (138 kB)\n",
            "\u001b[K     |████████████████████████████████| 138 kB 73.3 MB/s \n",
            "\u001b[?25hCollecting spacy<2.1,>=2.0\n",
            "  Downloading spacy-2.0.18-cp37-cp37m-manylinux1_x86_64.whl (25.2 MB)\n",
            "\u001b[K     |████████████████████████████████| 25.2 MB 88.8 MB/s \n",
            "\u001b[?25hRequirement already satisfied: numpy in /usr/local/lib/python3.7/dist-packages (from allennlp===0.8.2-unreleased->-r /content/kglm-model/requirements.txt (line 2)) (1.21.6)\n",
            "Collecting tensorboardX==1.2\n",
            "  Downloading tensorboardX-1.2-py2.py3-none-any.whl (44 kB)\n",
            "\u001b[K     |████████████████████████████████| 44 kB 3.3 MB/s \n",
            "\u001b[?25hCollecting awscli>=1.11.91\n",
            "  Downloading awscli-1.25.27-py3-none-any.whl (3.9 MB)\n",
            "\u001b[K     |████████████████████████████████| 3.9 MB 56.7 MB/s \n",
            "\u001b[?25hCollecting boto3\n",
            "  Downloading boto3-1.24.27-py3-none-any.whl (132 kB)\n",
            "\u001b[K     |████████████████████████████████| 132 kB 65.8 MB/s \n",
            "\u001b[?25hCollecting moto==1.3.4\n",
            "  Downloading moto-1.3.4-py2.py3-none-any.whl (548 kB)\n",
            "\u001b[K     |████████████████████████████████| 548 kB 58.4 MB/s \n",
            "\u001b[?25hCollecting flask==1.0.2\n",
            "  Downloading Flask-1.0.2-py2.py3-none-any.whl (91 kB)\n",
            "\u001b[K     |████████████████████████████████| 91 kB 11.7 MB/s \n",
            "\u001b[?25hCollecting flask-cors==3.0.7\n",
            "  Downloading Flask_Cors-3.0.7-py2.py3-none-any.whl (13 kB)\n",
            "Collecting gevent==1.3.6\n",
            "  Downloading gevent-1.3.6-cp37-cp37m-manylinux1_x86_64.whl (4.5 MB)\n",
            "\u001b[K     |████████████████████████████████| 4.5 MB 55.9 MB/s \n",
            "\u001b[?25hRequirement already satisfied: requests>=2.18 in /usr/local/lib/python3.7/dist-packages (from allennlp===0.8.2-unreleased->-r /content/kglm-model/requirements.txt (line 2)) (2.23.0)\n",
            "Requirement already satisfied: tqdm>=4.19 in /usr/local/lib/python3.7/dist-packages (from allennlp===0.8.2-unreleased->-r /content/kglm-model/requirements.txt (line 2)) (4.64.0)\n",
            "Requirement already satisfied: editdistance in /usr/local/lib/python3.7/dist-packages (from allennlp===0.8.2-unreleased->-r /content/kglm-model/requirements.txt (line 2)) (0.5.3)\n",
            "Requirement already satisfied: h5py in /usr/local/lib/python3.7/dist-packages (from allennlp===0.8.2-unreleased->-r /content/kglm-model/requirements.txt (line 2)) (3.1.0)\n",
            "Requirement already satisfied: scikit-learn in /usr/local/lib/python3.7/dist-packages (from allennlp===0.8.2-unreleased->-r /content/kglm-model/requirements.txt (line 2)) (0.22.2)\n",
            "Requirement already satisfied: scipy in /usr/local/lib/python3.7/dist-packages (from allennlp===0.8.2-unreleased->-r /content/kglm-model/requirements.txt (line 2)) (1.4.1)\n",
            "Collecting pytz==2017.3\n",
            "  Downloading pytz-2017.3-py2.py3-none-any.whl (511 kB)\n",
            "\u001b[K     |████████████████████████████████| 511 kB 73.2 MB/s \n",
            "\u001b[?25hCollecting unidecode\n",
            "  Downloading Unidecode-1.3.4-py3-none-any.whl (235 kB)\n",
            "\u001b[K     |████████████████████████████████| 235 kB 73.1 MB/s \n",
            "\u001b[?25hCollecting matplotlib==2.2.3\n",
            "  Downloading matplotlib-2.2.3-cp37-cp37m-manylinux1_x86_64.whl (12.6 MB)\n",
            "\u001b[K     |████████████████████████████████| 12.6 MB 34.2 MB/s \n",
            "\u001b[?25hRequirement already satisfied: pytest in /usr/local/lib/python3.7/dist-packages (from allennlp===0.8.2-unreleased->-r /content/kglm-model/requirements.txt (line 2)) (3.6.4)\n",
            "Collecting flaky\n",
            "  Downloading flaky-3.7.0-py2.py3-none-any.whl (22 kB)\n",
            "Collecting responses>=0.7\n",
            "  Downloading responses-0.21.0-py3-none-any.whl (45 kB)\n",
            "\u001b[K     |████████████████████████████████| 45 kB 1.6 MB/s \n",
            "\u001b[?25hCollecting numpydoc==0.8.0\n",
            "  Downloading numpydoc-0.8.0.tar.gz (20 kB)\n",
            "Collecting conllu==0.11\n",
            "  Downloading conllu-0.11-py2.py3-none-any.whl (6.8 kB)\n",
            "Collecting parsimonious==0.8.0\n",
            "  Downloading parsimonious-0.8.0.tar.gz (38 kB)\n",
            "Collecting ftfy\n",
            "  Downloading ftfy-6.1.1-py3-none-any.whl (53 kB)\n",
            "\u001b[K     |████████████████████████████████| 53 kB 1.9 MB/s \n",
            "\u001b[?25hCollecting sqlparse==0.2.4\n",
            "  Downloading sqlparse-0.2.4-py2.py3-none-any.whl (38 kB)\n",
            "Collecting pytorch-pretrained-bert==0.4.0\n",
            "  Downloading pytorch_pretrained_bert-0.4.0-py3-none-any.whl (45 kB)\n",
            "\u001b[K     |████████████████████████████████| 45 kB 3.8 MB/s \n",
            "\u001b[?25hCollecting jsonnet==0.10.0\n",
            "  Downloading jsonnet-0.10.0.tar.gz (124 kB)\n",
            "\u001b[K     |████████████████████████████████| 124 kB 71.6 MB/s \n",
            "\u001b[?25hRequirement already satisfied: click>=5.1 in /usr/local/lib/python3.7/dist-packages (from flask==1.0.2->allennlp===0.8.2-unreleased->-r /content/kglm-model/requirements.txt (line 2)) (7.1.2)\n",
            "Requirement already satisfied: itsdangerous>=0.24 in /usr/local/lib/python3.7/dist-packages (from flask==1.0.2->allennlp===0.8.2-unreleased->-r /content/kglm-model/requirements.txt (line 2)) (1.1.0)\n",
            "Requirement already satisfied: Werkzeug>=0.14 in /usr/local/lib/python3.7/dist-packages (from flask==1.0.2->allennlp===0.8.2-unreleased->-r /content/kglm-model/requirements.txt (line 2)) (1.0.1)\n",
            "Requirement already satisfied: Jinja2>=2.10 in /usr/local/lib/python3.7/dist-packages (from flask==1.0.2->allennlp===0.8.2-unreleased->-r /content/kglm-model/requirements.txt (line 2)) (2.11.3)\n",
            "Requirement already satisfied: Six in /usr/local/lib/python3.7/dist-packages (from flask-cors==3.0.7->allennlp===0.8.2-unreleased->-r /content/kglm-model/requirements.txt (line 2)) (1.15.0)\n",
            "Requirement already satisfied: greenlet>=0.4.14 in /usr/local/lib/python3.7/dist-packages (from gevent==1.3.6->allennlp===0.8.2-unreleased->-r /content/kglm-model/requirements.txt (line 2)) (1.1.2)\n",
            "Requirement already satisfied: kiwisolver>=1.0.1 in /usr/local/lib/python3.7/dist-packages (from matplotlib==2.2.3->allennlp===0.8.2-unreleased->-r /content/kglm-model/requirements.txt (line 2)) (1.4.3)\n",
            "Requirement already satisfied: pyparsing!=2.0.4,!=2.1.2,!=2.1.6,>=2.0.1 in /usr/local/lib/python3.7/dist-packages (from matplotlib==2.2.3->allennlp===0.8.2-unreleased->-r /content/kglm-model/requirements.txt (line 2)) (3.0.9)\n",
            "Requirement already satisfied: python-dateutil>=2.1 in /usr/local/lib/python3.7/dist-packages (from matplotlib==2.2.3->allennlp===0.8.2-unreleased->-r /content/kglm-model/requirements.txt (line 2)) (2.8.2)\n",
            "Requirement already satisfied: cycler>=0.10 in /usr/local/lib/python3.7/dist-packages (from matplotlib==2.2.3->allennlp===0.8.2-unreleased->-r /content/kglm-model/requirements.txt (line 2)) (0.11.0)\n",
            "Collecting boto>=2.36.0\n",
            "  Downloading boto-2.49.0-py2.py3-none-any.whl (1.4 MB)\n",
            "\u001b[K     |████████████████████████████████| 1.4 MB 62.4 MB/s \n",
            "\u001b[?25hCollecting python-jose<3.0.0\n",
            "  Downloading python_jose-2.0.2-py2.py3-none-any.whl (21 kB)\n",
            "Collecting mock\n",
            "  Downloading mock-4.0.3-py3-none-any.whl (28 kB)\n",
            "Collecting botocore>=1.9.16\n",
            "  Downloading botocore-1.27.27-py3-none-any.whl (9.0 MB)\n",
            "\u001b[K     |████████████████████████████████| 9.0 MB 55.3 MB/s \n",
            "\u001b[?25hCollecting cryptography>=2.0.0\n",
            "  Downloading cryptography-37.0.4-cp36-abi3-manylinux_2_24_x86_64.whl (4.1 MB)\n",
            "\u001b[K     |████████████████████████████████| 4.1 MB 60.4 MB/s \n",
            "\u001b[?25hCollecting cookies\n",
            "  Downloading cookies-2.2.1-py2.py3-none-any.whl (44 kB)\n",
            "\u001b[K     |████████████████████████████████| 44 kB 3.2 MB/s \n",
            "\u001b[?25hCollecting xmltodict\n",
            "  Downloading xmltodict-0.13.0-py2.py3-none-any.whl (10.0 kB)\n",
            "Collecting aws-xray-sdk<0.96,>=0.93\n",
            "  Downloading aws_xray_sdk-0.95-py2.py3-none-any.whl (52 kB)\n",
            "\u001b[K     |████████████████████████████████| 52 kB 1.6 MB/s \n",
            "\u001b[?25hCollecting docker>=2.5.1\n",
            "  Downloading docker-5.0.3-py2.py3-none-any.whl (146 kB)\n",
            "\u001b[K     |████████████████████████████████| 146 kB 71.3 MB/s \n",
            "\u001b[?25hCollecting pyaml\n",
            "  Downloading pyaml-21.10.1-py2.py3-none-any.whl (24 kB)\n",
            "Collecting jsondiff==1.1.1\n",
            "  Downloading jsondiff-1.1.1.tar.gz (7.8 kB)\n",
            "Requirement already satisfied: sphinx>=1.2.3 in /usr/local/lib/python3.7/dist-packages (from numpydoc==0.8.0->allennlp===0.8.2-unreleased->-r /content/kglm-model/requirements.txt (line 2)) (1.8.6)\n",
            "Requirement already satisfied: protobuf>=0.3.2 in /usr/local/lib/python3.7/dist-packages (from tensorboardX==1.2->allennlp===0.8.2-unreleased->-r /content/kglm-model/requirements.txt (line 2)) (3.17.3)\n",
            "Requirement already satisfied: wrapt in /usr/local/lib/python3.7/dist-packages (from aws-xray-sdk<0.96,>=0.93->moto==1.3.4->allennlp===0.8.2-unreleased->-r /content/kglm-model/requirements.txt (line 2)) (1.14.1)\n",
            "Collecting jsonpickle\n",
            "  Downloading jsonpickle-2.2.0-py2.py3-none-any.whl (39 kB)\n",
            "Collecting s3transfer<0.7.0,>=0.6.0\n",
            "  Downloading s3transfer-0.6.0-py3-none-any.whl (79 kB)\n",
            "\u001b[K     |████████████████████████████████| 79 kB 9.3 MB/s \n",
            "\u001b[?25hCollecting rsa<4.8,>=3.1.2\n",
            "  Downloading rsa-4.7.2-py3-none-any.whl (34 kB)\n",
            "Collecting docutils<0.17,>=0.10\n",
            "  Downloading docutils-0.16-py2.py3-none-any.whl (548 kB)\n",
            "\u001b[K     |████████████████████████████████| 548 kB 74.5 MB/s \n",
            "\u001b[?25hRequirement already satisfied: PyYAML<5.5,>=3.10 in /usr/local/lib/python3.7/dist-packages (from awscli>=1.11.91->allennlp===0.8.2-unreleased->-r /content/kglm-model/requirements.txt (line 2)) (3.13)\n",
            "Collecting colorama<0.4.5,>=0.2.5\n",
            "  Downloading colorama-0.4.4-py2.py3-none-any.whl (16 kB)\n",
            "Collecting jmespath<2.0.0,>=0.7.1\n",
            "  Downloading jmespath-1.0.1-py3-none-any.whl (20 kB)\n",
            "Collecting urllib3<1.27,>=1.25.4\n",
            "  Downloading urllib3-1.26.10-py2.py3-none-any.whl (139 kB)\n",
            "\u001b[K     |████████████████████████████████| 139 kB 74.4 MB/s \n",
            "\u001b[?25hRequirement already satisfied: cffi>=1.12 in /usr/local/lib/python3.7/dist-packages (from cryptography>=2.0.0->moto==1.3.4->allennlp===0.8.2-unreleased->-r /content/kglm-model/requirements.txt (line 2)) (1.15.0)\n",
            "Requirement already satisfied: pycparser in /usr/local/lib/python3.7/dist-packages (from cffi>=1.12->cryptography>=2.0.0->moto==1.3.4->allennlp===0.8.2-unreleased->-r /content/kglm-model/requirements.txt (line 2)) (2.21)\n",
            "Collecting websocket-client>=0.32.0\n",
            "  Downloading websocket_client-1.3.3-py3-none-any.whl (54 kB)\n",
            "\u001b[K     |████████████████████████████████| 54 kB 3.2 MB/s \n",
            "\u001b[?25hRequirement already satisfied: MarkupSafe>=0.23 in /usr/local/lib/python3.7/dist-packages (from Jinja2>=2.10->flask==1.0.2->allennlp===0.8.2-unreleased->-r /content/kglm-model/requirements.txt (line 2)) (2.0.1)\n",
            "Requirement already satisfied: typing-extensions in /usr/local/lib/python3.7/dist-packages (from kiwisolver>=1.0.1->matplotlib==2.2.3->allennlp===0.8.2-unreleased->-r /content/kglm-model/requirements.txt (line 2)) (4.1.1)\n",
            "Requirement already satisfied: future<1.0 in /usr/local/lib/python3.7/dist-packages (from python-jose<3.0.0->moto==1.3.4->allennlp===0.8.2-unreleased->-r /content/kglm-model/requirements.txt (line 2)) (0.16.0)\n",
            "Collecting pycryptodome<4.0.0,>=3.3.1\n",
            "  Downloading pycryptodome-3.15.0-cp35-abi3-manylinux2010_x86_64.whl (2.3 MB)\n",
            "\u001b[K     |████████████████████████████████| 2.3 MB 56.2 MB/s \n",
            "\u001b[?25hCollecting ecdsa<1.0\n",
            "  Downloading ecdsa-0.18.0-py2.py3-none-any.whl (142 kB)\n",
            "\u001b[K     |████████████████████████████████| 142 kB 75.8 MB/s \n",
            "\u001b[?25hRequirement already satisfied: chardet<4,>=3.0.2 in /usr/local/lib/python3.7/dist-packages (from requests>=2.18->allennlp===0.8.2-unreleased->-r /content/kglm-model/requirements.txt (line 2)) (3.0.4)\n",
            "Collecting urllib3<1.27,>=1.25.4\n",
            "  Downloading urllib3-1.25.11-py2.py3-none-any.whl (127 kB)\n",
            "\u001b[K     |████████████████████████████████| 127 kB 77.7 MB/s \n",
            "\u001b[?25hRequirement already satisfied: idna<3,>=2.5 in /usr/local/lib/python3.7/dist-packages (from requests>=2.18->allennlp===0.8.2-unreleased->-r /content/kglm-model/requirements.txt (line 2)) (2.10)\n",
            "Requirement already satisfied: certifi>=2017.4.17 in /usr/local/lib/python3.7/dist-packages (from requests>=2.18->allennlp===0.8.2-unreleased->-r /content/kglm-model/requirements.txt (line 2)) (2022.6.15)\n",
            "Requirement already satisfied: pyasn1>=0.1.3 in /usr/local/lib/python3.7/dist-packages (from rsa<4.8,>=3.1.2->awscli>=1.11.91->allennlp===0.8.2-unreleased->-r /content/kglm-model/requirements.txt (line 2)) (0.4.8)\n",
            "Requirement already satisfied: murmurhash<1.1.0,>=0.28.0 in /usr/local/lib/python3.7/dist-packages (from spacy<2.1,>=2.0->allennlp===0.8.2-unreleased->-r /content/kglm-model/requirements.txt (line 2)) (1.0.7)\n",
            "Requirement already satisfied: cymem<2.1.0,>=2.0.2 in /usr/local/lib/python3.7/dist-packages (from spacy<2.1,>=2.0->allennlp===0.8.2-unreleased->-r /content/kglm-model/requirements.txt (line 2)) (2.0.6)\n",
            "Collecting dill<0.3,>=0.2\n",
            "  Downloading dill-0.2.9.tar.gz (150 kB)\n",
            "\u001b[K     |████████████████████████████████| 150 kB 45.2 MB/s \n",
            "\u001b[?25hCollecting thinc<6.13.0,>=6.12.1\n",
            "  Downloading thinc-6.12.1-cp37-cp37m-manylinux1_x86_64.whl (1.9 MB)\n",
            "\u001b[K     |████████████████████████████████| 1.9 MB 53.8 MB/s \n",
            "\u001b[?25hCollecting preshed<2.1.0,>=2.0.1\n",
            "  Downloading preshed-2.0.1-cp37-cp37m-manylinux1_x86_64.whl (82 kB)\n",
            "\u001b[K     |████████████████████████████████| 82 kB 493 kB/s \n",
            "\u001b[?25hCollecting ujson>=1.35\n",
            "  Downloading ujson-5.4.0-cp37-cp37m-manylinux_2_17_x86_64.manylinux2014_x86_64.whl (45 kB)\n",
            "\u001b[K     |████████████████████████████████| 45 kB 3.9 MB/s \n",
            "\u001b[?25hCollecting plac<1.0.0,>=0.9.6\n",
            "  Downloading plac-0.9.6-py2.py3-none-any.whl (20 kB)\n",
            "Collecting regex==2018.01.10\n",
            "  Downloading regex-2018.01.10.tar.gz (612 kB)\n",
            "\u001b[K     |████████████████████████████████| 612 kB 67.5 MB/s \n",
            "\u001b[?25hRequirement already satisfied: packaging in /usr/local/lib/python3.7/dist-packages (from sphinx>=1.2.3->numpydoc==0.8.0->allennlp===0.8.2-unreleased->-r /content/kglm-model/requirements.txt (line 2)) (21.3)\n",
            "Requirement already satisfied: alabaster<0.8,>=0.7 in /usr/local/lib/python3.7/dist-packages (from sphinx>=1.2.3->numpydoc==0.8.0->allennlp===0.8.2-unreleased->-r /content/kglm-model/requirements.txt (line 2)) (0.7.12)\n",
            "Requirement already satisfied: snowballstemmer>=1.1 in /usr/local/lib/python3.7/dist-packages (from sphinx>=1.2.3->numpydoc==0.8.0->allennlp===0.8.2-unreleased->-r /content/kglm-model/requirements.txt (line 2)) (2.2.0)\n",
            "Requirement already satisfied: Pygments>=2.0 in /usr/local/lib/python3.7/dist-packages (from sphinx>=1.2.3->numpydoc==0.8.0->allennlp===0.8.2-unreleased->-r /content/kglm-model/requirements.txt (line 2)) (2.6.1)\n",
            "Requirement already satisfied: sphinxcontrib-websupport in /usr/local/lib/python3.7/dist-packages (from sphinx>=1.2.3->numpydoc==0.8.0->allennlp===0.8.2-unreleased->-r /content/kglm-model/requirements.txt (line 2)) (1.2.4)\n",
            "Requirement already satisfied: babel!=2.0,>=1.3 in /usr/local/lib/python3.7/dist-packages (from sphinx>=1.2.3->numpydoc==0.8.0->allennlp===0.8.2-unreleased->-r /content/kglm-model/requirements.txt (line 2)) (2.10.2)\n",
            "Requirement already satisfied: setuptools in /usr/local/lib/python3.7/dist-packages (from sphinx>=1.2.3->numpydoc==0.8.0->allennlp===0.8.2-unreleased->-r /content/kglm-model/requirements.txt (line 2)) (57.4.0)\n",
            "Requirement already satisfied: imagesize in /usr/local/lib/python3.7/dist-packages (from sphinx>=1.2.3->numpydoc==0.8.0->allennlp===0.8.2-unreleased->-r /content/kglm-model/requirements.txt (line 2)) (1.3.0)\n",
            "Collecting wrapt\n",
            "  Downloading wrapt-1.10.11.tar.gz (27 kB)\n",
            "Collecting msgpack-numpy<0.4.4\n",
            "  Downloading msgpack_numpy-0.4.3.2-py2.py3-none-any.whl (5.2 kB)\n",
            "Collecting cytoolz<0.10,>=0.9.0\n",
            "  Downloading cytoolz-0.9.0.1.tar.gz (443 kB)\n",
            "\u001b[K     |████████████████████████████████| 443 kB 63.0 MB/s \n",
            "\u001b[?25hRequirement already satisfied: toolz>=0.8.0 in /usr/local/lib/python3.7/dist-packages (from cytoolz<0.10,>=0.9.0->thinc<6.13.0,>=6.12.1->spacy<2.1,>=2.0->allennlp===0.8.2-unreleased->-r /content/kglm-model/requirements.txt (line 2)) (0.11.2)\n",
            "Collecting pytest\n",
            "  Downloading pytest-7.1.2-py3-none-any.whl (297 kB)\n",
            "\u001b[K     |████████████████████████████████| 297 kB 71.4 MB/s \n",
            "\u001b[?25hCollecting coverage[toml]>=5.2.1\n",
            "  Downloading coverage-6.4.1-cp37-cp37m-manylinux_2_5_x86_64.manylinux1_x86_64.manylinux_2_17_x86_64.manylinux2014_x86_64.whl (208 kB)\n",
            "\u001b[K     |████████████████████████████████| 208 kB 74.4 MB/s \n",
            "\u001b[?25hRequirement already satisfied: tomli in /usr/local/lib/python3.7/dist-packages (from coverage[toml]>=5.2.1->pytest-cov->-r /content/kglm-model/requirements.txt (line 5)) (2.0.1)\n",
            "Requirement already satisfied: importlib-metadata>=0.12 in /usr/local/lib/python3.7/dist-packages (from pytest->allennlp===0.8.2-unreleased->-r /content/kglm-model/requirements.txt (line 2)) (4.11.4)\n",
            "Collecting pluggy<2.0,>=0.12\n",
            "  Downloading pluggy-1.0.0-py2.py3-none-any.whl (13 kB)\n",
            "Requirement already satisfied: py>=1.8.2 in /usr/local/lib/python3.7/dist-packages (from pytest->allennlp===0.8.2-unreleased->-r /content/kglm-model/requirements.txt (line 2)) (1.11.0)\n",
            "Requirement already satisfied: iniconfig in /usr/local/lib/python3.7/dist-packages (from pytest->allennlp===0.8.2-unreleased->-r /content/kglm-model/requirements.txt (line 2)) (1.1.1)\n",
            "Requirement already satisfied: attrs>=19.2.0 in /usr/local/lib/python3.7/dist-packages (from pytest->allennlp===0.8.2-unreleased->-r /content/kglm-model/requirements.txt (line 2)) (21.4.0)\n",
            "Requirement already satisfied: zipp>=0.5 in /usr/local/lib/python3.7/dist-packages (from importlib-metadata>=0.12->pytest->allennlp===0.8.2-unreleased->-r /content/kglm-model/requirements.txt (line 2)) (3.8.0)\n",
            "Requirement already satisfied: wcwidth>=0.2.5 in /usr/local/lib/python3.7/dist-packages (from ftfy->allennlp===0.8.2-unreleased->-r /content/kglm-model/requirements.txt (line 2)) (0.2.5)\n",
            "Requirement already satisfied: cached-property in /usr/local/lib/python3.7/dist-packages (from h5py->allennlp===0.8.2-unreleased->-r /content/kglm-model/requirements.txt (line 2)) (1.5.2)\n",
            "Collecting nltk\n",
            "  Downloading nltk-3.6.7-py3-none-any.whl (1.5 MB)\n",
            "\u001b[K     |████████████████████████████████| 1.5 MB 48.9 MB/s \n",
            "\u001b[?25h  Downloading nltk-3.6.6-py3-none-any.whl (1.5 MB)\n",
            "\u001b[K     |████████████████████████████████| 1.5 MB 67.4 MB/s \n",
            "\u001b[?25h  Downloading nltk-3.6.5-py3-none-any.whl (1.5 MB)\n",
            "\u001b[K     |████████████████████████████████| 1.5 MB 68.7 MB/s \n",
            "\u001b[?25h  Downloading nltk-3.6.3-py3-none-any.whl (1.5 MB)\n",
            "\u001b[K     |████████████████████████████████| 1.5 MB 52.2 MB/s \n",
            "\u001b[?25hRequirement already satisfied: joblib in /usr/local/lib/python3.7/dist-packages (from nltk->allennlp===0.8.2-unreleased->-r /content/kglm-model/requirements.txt (line 2)) (1.1.0)\n",
            "Requirement already satisfied: sphinxcontrib-serializinghtml in /usr/local/lib/python3.7/dist-packages (from sphinxcontrib-websupport->sphinx>=1.2.3->numpydoc==0.8.0->allennlp===0.8.2-unreleased->-r /content/kglm-model/requirements.txt (line 2)) (1.1.5)\n",
            "Building wheels for collected packages: allennlp, jsonnet, jsondiff, numpydoc, parsimonious, msgpack, regex, dill, cytoolz, wrapt\n",
            "  Building wheel for allennlp (setup.py) ... \u001b[?25l\u001b[?25hdone\n",
            "  Created wheel for allennlp: filename=allennlp-0.8.2_unreleased-py3-none-any.whl size=5538008 sha256=a29d1f5b5a0d801374b9e4679dff0b8f982c4b8d886374d60325c6f1307f4aaf\n",
            "  Stored in directory: /tmp/pip-ephem-wheel-cache-2v_5eran/wheels/44/d8/88/915713e61a7e6901e1650736f079eb75a757d1f2bf74b24aaa\n",
            "\u001b[33m  WARNING: Built wheel for allennlp is invalid: Metadata 1.2 mandates PEP 440 version, but '0.8.2-unreleased' is not\u001b[0m\n",
            "  Building wheel for jsonnet (setup.py) ... \u001b[?25l\u001b[?25hdone\n",
            "  Created wheel for jsonnet: filename=jsonnet-0.10.0-cp37-cp37m-linux_x86_64.whl size=2890899 sha256=2ecf5639eecb8bc877da7287ff81c9341978a7d52558f21cbbb36b46fbce0d6f\n",
            "  Stored in directory: /root/.cache/pip/wheels/9c/27/cf/95fb17431a146150208e0772d2cc0704f8cc6cbfcafc1729a0\n",
            "  Building wheel for jsondiff (setup.py) ... \u001b[?25l\u001b[?25hdone\n",
            "  Created wheel for jsondiff: filename=jsondiff-1.1.1-py3-none-any.whl size=6484 sha256=a538939adc9de218e23ebd85be1f4229b3710ef6cf3aa39a48f5249e72f8bb7d\n",
            "  Stored in directory: /root/.cache/pip/wheels/8d/fe/a7/7ec5152beb08c7fbfd73709aac18861dc97ba4d851056844f2\n",
            "  Building wheel for numpydoc (setup.py) ... \u001b[?25l\u001b[?25hdone\n",
            "  Created wheel for numpydoc: filename=numpydoc-0.8.0-py3-none-any.whl size=23066 sha256=473041764b5c19302a830f7ec316b5cec15d6779082f4024400291514eddd911\n",
            "  Stored in directory: /root/.cache/pip/wheels/c9/23/55/179a740eaf5b758a01ec6646a8a6a9ab2153fb40b2a0ba9c83\n",
            "  Building wheel for parsimonious (setup.py) ... \u001b[?25l\u001b[?25hdone\n",
            "  Created wheel for parsimonious: filename=parsimonious-0.8.0-py3-none-any.whl size=42642 sha256=6690c90c8a3babcea563fce0931293da5e0f1410956af03bae03c2fb1689455c\n",
            "  Stored in directory: /root/.cache/pip/wheels/0a/69/c1/bc4e991e9ba88ddce03bc38ff1e4926884e09cc703992f4237\n",
            "  Building wheel for msgpack (setup.py) ... \u001b[?25l\u001b[?25hdone\n",
            "  Created wheel for msgpack: filename=msgpack-0.5.6-cp37-cp37m-linux_x86_64.whl size=298954 sha256=6d10cb7b19a062b1f1db6eeee064f1b9121ada75b42fafe0e190f87961385de6\n",
            "  Stored in directory: /root/.cache/pip/wheels/42/92/5b/708850ed8872c249ce8ace306b542e1099428491e6b613297b\n",
            "  Building wheel for regex (setup.py) ... \u001b[?25l\u001b[?25hdone\n",
            "  Created wheel for regex: filename=regex-2018.1.10-cp37-cp37m-linux_x86_64.whl size=549176 sha256=610b4b53ee58abf75bdc9fe2838663a0131f68185acb553d80c2688f65b3e637\n",
            "  Stored in directory: /root/.cache/pip/wheels/ba/ec/25/0c2b801e792098f7dad5b76157b01be8d0719525c365773e7c\n",
            "  Building wheel for dill (setup.py) ... \u001b[?25l\u001b[?25hdone\n",
            "  Created wheel for dill: filename=dill-0.2.9-py3-none-any.whl size=77420 sha256=90277dde2f1c0d0e7323253fea7c1a2aa0e711b2b6337967c9794391b0b640a7\n",
            "  Stored in directory: /root/.cache/pip/wheels/31/87/19/1fb8f037d75fdc0841c772ecdfd5fdf22f85300d25c73f66cb\n",
            "  Building wheel for cytoolz (setup.py) ... \u001b[?25l\u001b[?25hdone\n",
            "  Created wheel for cytoolz: filename=cytoolz-0.9.0.1-cp37-cp37m-linux_x86_64.whl size=1239696 sha256=ed125e7dbba02ef037c28ce0d5aa60a753832f88db785b143421c747f6b719ea\n",
            "  Stored in directory: /root/.cache/pip/wheels/52/9f/8e/8d8bc15ed2c88ed4e784c603f641df40d19e8410b982766e4f\n",
            "  Building wheel for wrapt (setup.py) ... \u001b[?25l\u001b[?25hdone\n",
            "  Created wheel for wrapt: filename=wrapt-1.10.11-cp37-cp37m-linux_x86_64.whl size=66078 sha256=35e42681098e7b5fbbe8e1a2d1572b4b0c5fa30c7c619cfc2cff0e52c11c0474\n",
            "  Stored in directory: /root/.cache/pip/wheels/b4/73/c0/df8f4b8bdfc554d2ba0823c8f80d566cabf702c858e2a49d7b\n",
            "Successfully built jsonnet jsondiff numpydoc parsimonious msgpack regex dill cytoolz wrapt\n",
            "Failed to build allennlp\n",
            "Installing collected packages: urllib3, jmespath, pytz, msgpack, botocore, wrapt, websocket-client, s3transfer, pycryptodome, preshed, plac, msgpack-numpy, jsonpickle, ecdsa, docutils, dill, cytoolz, xmltodict, ujson, torch, thinc, rsa, responses, regex, python-jose, pyaml, pluggy, mock, jsondiff, flask, docker, cryptography, coverage, cookies, colorama, boto3, boto, aws-xray-sdk, unidecode, tensorboardX, sqlparse, spacy, pytorch-pretrained-bert, pytest, parsimonious, numpydoc, nltk, moto, matplotlib, jsonnet, gevent, ftfy, flask-cors, flaky, conllu, awscli, pytest-cov, codecov, allennlp\n",
            "  Attempting uninstall: urllib3\n",
            "    Found existing installation: urllib3 1.24.3\n",
            "    Uninstalling urllib3-1.24.3:\n",
            "      Successfully uninstalled urllib3-1.24.3\n",
            "  Attempting uninstall: pytz\n",
            "    Found existing installation: pytz 2022.1\n",
            "    Uninstalling pytz-2022.1:\n",
            "      Successfully uninstalled pytz-2022.1\n",
            "  Attempting uninstall: msgpack\n",
            "    Found existing installation: msgpack 1.0.4\n",
            "    Uninstalling msgpack-1.0.4:\n",
            "      Successfully uninstalled msgpack-1.0.4\n",
            "  Attempting uninstall: wrapt\n",
            "    Found existing installation: wrapt 1.14.1\n",
            "    Uninstalling wrapt-1.14.1:\n",
            "      Successfully uninstalled wrapt-1.14.1\n",
            "  Attempting uninstall: preshed\n",
            "    Found existing installation: preshed 3.0.6\n",
            "    Uninstalling preshed-3.0.6:\n",
            "      Successfully uninstalled preshed-3.0.6\n",
            "  Attempting uninstall: docutils\n",
            "    Found existing installation: docutils 0.17.1\n",
            "    Uninstalling docutils-0.17.1:\n",
            "      Successfully uninstalled docutils-0.17.1\n",
            "  Attempting uninstall: dill\n",
            "    Found existing installation: dill 0.3.5.1\n",
            "    Uninstalling dill-0.3.5.1:\n",
            "      Successfully uninstalled dill-0.3.5.1\n",
            "  Attempting uninstall: torch\n",
            "    Found existing installation: torch 1.11.0+cu113\n",
            "    Uninstalling torch-1.11.0+cu113:\n",
            "      Successfully uninstalled torch-1.11.0+cu113\n",
            "  Attempting uninstall: thinc\n",
            "    Found existing installation: thinc 8.0.17\n",
            "    Uninstalling thinc-8.0.17:\n",
            "      Successfully uninstalled thinc-8.0.17\n",
            "  Attempting uninstall: rsa\n",
            "    Found existing installation: rsa 4.8\n",
            "    Uninstalling rsa-4.8:\n",
            "      Successfully uninstalled rsa-4.8\n",
            "  Attempting uninstall: regex\n",
            "    Found existing installation: regex 2022.6.2\n",
            "    Uninstalling regex-2022.6.2:\n",
            "      Successfully uninstalled regex-2022.6.2\n",
            "  Attempting uninstall: pluggy\n",
            "    Found existing installation: pluggy 0.7.1\n",
            "    Uninstalling pluggy-0.7.1:\n",
            "      Successfully uninstalled pluggy-0.7.1\n",
            "  Attempting uninstall: flask\n",
            "    Found existing installation: Flask 1.1.4\n",
            "    Uninstalling Flask-1.1.4:\n",
            "      Successfully uninstalled Flask-1.1.4\n",
            "  Attempting uninstall: coverage\n",
            "    Found existing installation: coverage 3.7.1\n",
            "    Uninstalling coverage-3.7.1:\n",
            "      Successfully uninstalled coverage-3.7.1\n",
            "  Attempting uninstall: sqlparse\n",
            "    Found existing installation: sqlparse 0.4.2\n",
            "    Uninstalling sqlparse-0.4.2:\n",
            "      Successfully uninstalled sqlparse-0.4.2\n",
            "  Attempting uninstall: spacy\n",
            "    Found existing installation: spacy 3.3.1\n",
            "    Uninstalling spacy-3.3.1:\n",
            "      Successfully uninstalled spacy-3.3.1\n",
            "  Attempting uninstall: pytest\n",
            "    Found existing installation: pytest 3.6.4\n",
            "    Uninstalling pytest-3.6.4:\n",
            "      Successfully uninstalled pytest-3.6.4\n",
            "  Attempting uninstall: nltk\n",
            "    Found existing installation: nltk 3.7\n",
            "    Uninstalling nltk-3.7:\n",
            "      Successfully uninstalled nltk-3.7\n",
            "  Attempting uninstall: matplotlib\n",
            "    Found existing installation: matplotlib 3.2.2\n",
            "    Uninstalling matplotlib-3.2.2:\n",
            "      Successfully uninstalled matplotlib-3.2.2\n",
            "    Running setup.py install for allennlp ... \u001b[?25l\u001b[?25hdone\n",
            "\u001b[33m  DEPRECATION: allennlp was installed using the legacy 'setup.py install' method, because a wheel could not be built for it. A possible replacement is to fix the wheel build issue reported above. You can find discussion regarding this at https://github.com/pypa/pip/issues/8368.\u001b[0m\n",
            "\u001b[31mERROR: pip's dependency resolver does not currently take into account all the packages that are installed. This behaviour is the source of the following dependency conflicts.\n",
            "yellowbrick 1.4 requires scikit-learn>=1.0.0, but you have scikit-learn 0.22.2 which is incompatible.\n",
            "torchvision 0.12.0+cu113 requires torch==1.11.0, but you have torch 1.1.0 which is incompatible.\n",
            "torchtext 0.12.0 requires torch==1.11.0, but you have torch 1.1.0 which is incompatible.\n",
            "torchaudio 0.11.0+cu113 requires torch==1.11.0, but you have torch 1.1.0 which is incompatible.\n",
            "tensorflow 2.8.2+zzzcolab20220527125636 requires wrapt>=1.11.0, but you have wrapt 1.10.11 which is incompatible.\n",
            "plotnine 0.6.0 requires matplotlib>=3.1.1, but you have matplotlib 2.2.3 which is incompatible.\n",
            "multiprocess 0.70.13 requires dill>=0.3.5.1, but you have dill 0.2.9 which is incompatible.\n",
            "mizani 0.6.0 requires matplotlib>=3.1.1, but you have matplotlib 2.2.3 which is incompatible.\n",
            "fastai 2.6.3 requires torch<1.12,>=1.7.0, but you have torch 1.1.0 which is incompatible.\n",
            "en-core-web-sm 3.3.0 requires spacy<3.4.0,>=3.3.0.dev0, but you have spacy 2.0.18 which is incompatible.\n",
            "datascience 0.10.6 requires coverage==3.7.1, but you have coverage 6.4.1 which is incompatible.\n",
            "datascience 0.10.6 requires folium==0.2.1, but you have folium 0.8.3 which is incompatible.\n",
            "coveralls 0.5 requires coverage<3.999,>=3.6, but you have coverage 6.4.1 which is incompatible.\n",
            "arviz 0.12.1 requires matplotlib>=3.0, but you have matplotlib 2.2.3 which is incompatible.\n",
            "albumentations 0.1.12 requires imgaug<0.2.7,>=0.2.5, but you have imgaug 0.2.9 which is incompatible.\u001b[0m\n",
            "Successfully installed allennlp-0.8.2-unreleased aws-xray-sdk-0.95 awscli-1.25.27 boto-2.49.0 boto3-1.24.27 botocore-1.27.27 codecov-2.1.12 colorama-0.4.4 conllu-0.11 cookies-2.2.1 coverage-6.4.1 cryptography-37.0.4 cytoolz-0.9.0.1 dill-0.2.9 docker-5.0.3 docutils-0.16 ecdsa-0.18.0 flaky-3.7.0 flask-1.0.2 flask-cors-3.0.7 ftfy-6.1.1 gevent-1.3.6 jmespath-1.0.1 jsondiff-1.1.1 jsonnet-0.10.0 jsonpickle-2.2.0 matplotlib-2.2.3 mock-4.0.3 moto-1.3.4 msgpack-0.5.6 msgpack-numpy-0.4.3.2 nltk-3.6.3 numpydoc-0.8.0 parsimonious-0.8.0 plac-0.9.6 pluggy-1.0.0 preshed-2.0.1 pyaml-21.10.1 pycryptodome-3.15.0 pytest-7.1.2 pytest-cov-3.0.0 python-jose-2.0.2 pytorch-pretrained-bert-0.4.0 pytz-2017.3 regex-2018.1.10 responses-0.21.0 rsa-4.7.2 s3transfer-0.6.0 spacy-2.0.18 sqlparse-0.2.4 tensorboardX-1.2 thinc-6.12.1 torch-1.1.0 ujson-5.4.0 unidecode-1.3.4 urllib3-1.25.11 websocket-client-1.3.3 wrapt-1.10.11 xmltodict-0.13.0\n"
          ]
        },
        {
          "output_type": "display_data",
          "data": {
            "application/vnd.colab-display-data+json": {
              "pip_warning": {
                "packages": [
                  "matplotlib",
                  "mpl_toolkits"
                ]
              }
            }
          },
          "metadata": {}
        }
      ]
    },
    {
      "cell_type": "code",
      "source": [
        "!pip install pep440"
      ],
      "metadata": {
        "colab": {
          "base_uri": "https://localhost:8080/"
        },
        "id": "22z7MiHf0gPm",
        "outputId": "97570e29-7def-4334-fb44-a479619c27d1"
      },
      "execution_count": 9,
      "outputs": [
        {
          "output_type": "stream",
          "name": "stdout",
          "text": [
            "Looking in indexes: https://pypi.org/simple, https://us-python.pkg.dev/colab-wheels/public/simple/\n",
            "Collecting pep440\n",
            "  Downloading pep440-0.1.0-py2.py3-none-any.whl (6.2 kB)\n",
            "Installing collected packages: pep440\n",
            "Successfully installed pep440-0.1.0\n"
          ]
        }
      ]
    },
    {
      "cell_type": "code",
      "source": [
        "! allennlp train '/content/kglm-model/experiments/kglm.jsonnet' -s '/content/drive/MyDrive/kglm_out/15' --include-package kglm"
      ],
      "metadata": {
        "colab": {
          "base_uri": "https://localhost:8080/"
        },
        "id": "0jPw60tDw4V2",
        "outputId": "063b82cf-8e91-4985-db3c-a77bcd79b433"
      },
      "execution_count": 1,
      "outputs": [
        {
          "output_type": "stream",
          "name": "stdout",
          "text": [
            "/bin/bash: allennlp: command not found\n"
          ]
        }
      ]
    },
    {
      "cell_type": "code",
      "source": [
        "! pip install scikit-learn==0.22.2"
      ],
      "metadata": {
        "colab": {
          "base_uri": "https://localhost:8080/"
        },
        "id": "IJd6KFQo2dc2",
        "outputId": "1e317f7b-5697-4447-d0fe-03ffadea9de9"
      },
      "execution_count": 6,
      "outputs": [
        {
          "output_type": "stream",
          "name": "stdout",
          "text": [
            "Looking in indexes: https://pypi.org/simple, https://us-python.pkg.dev/colab-wheels/public/simple/\n",
            "Collecting scikit-learn==0.22.2\n",
            "  Downloading scikit_learn-0.22.2-cp37-cp37m-manylinux1_x86_64.whl (7.1 MB)\n",
            "\u001b[K     |████████████████████████████████| 7.1 MB 20.3 MB/s \n",
            "\u001b[?25hRequirement already satisfied: joblib>=0.11 in /usr/local/lib/python3.7/dist-packages (from scikit-learn==0.22.2) (1.1.0)\n",
            "Requirement already satisfied: numpy>=1.11.0 in /usr/local/lib/python3.7/dist-packages (from scikit-learn==0.22.2) (1.21.6)\n",
            "Requirement already satisfied: scipy>=0.17.0 in /usr/local/lib/python3.7/dist-packages (from scikit-learn==0.22.2) (1.4.1)\n",
            "Installing collected packages: scikit-learn\n",
            "  Attempting uninstall: scikit-learn\n",
            "    Found existing installation: scikit-learn 1.0.2\n",
            "    Uninstalling scikit-learn-1.0.2:\n",
            "      Successfully uninstalled scikit-learn-1.0.2\n",
            "\u001b[31mERROR: pip's dependency resolver does not currently take into account all the packages that are installed. This behaviour is the source of the following dependency conflicts.\n",
            "yellowbrick 1.4 requires scikit-learn>=1.0.0, but you have scikit-learn 0.22.2 which is incompatible.\n",
            "imbalanced-learn 0.8.1 requires scikit-learn>=0.24, but you have scikit-learn 0.22.2 which is incompatible.\u001b[0m\n",
            "Successfully installed scikit-learn-0.22.2\n"
          ]
        }
      ]
    },
    {
      "cell_type": "code",
      "source": [
        "! pip install overrides==3.1.0\n",
        "\n"
      ],
      "metadata": {
        "colab": {
          "base_uri": "https://localhost:8080/"
        },
        "id": "qCpg-Ob7104l",
        "outputId": "f2a3e2c9-c1ce-4756-b807-5426aeb10be2"
      },
      "execution_count": 7,
      "outputs": [
        {
          "output_type": "stream",
          "name": "stdout",
          "text": [
            "Looking in indexes: https://pypi.org/simple, https://us-python.pkg.dev/colab-wheels/public/simple/\n",
            "Collecting overrides==3.1.0\n",
            "  Downloading overrides-3.1.0.tar.gz (11 kB)\n",
            "Building wheels for collected packages: overrides\n",
            "  Building wheel for overrides (setup.py) ... \u001b[?25l\u001b[?25hdone\n",
            "  Created wheel for overrides: filename=overrides-3.1.0-py3-none-any.whl size=10187 sha256=e4dd405e35531afce044df7701e8db56630dc31bf96f7858e432bd34256107e1\n",
            "  Stored in directory: /root/.cache/pip/wheels/3a/0d/38/01a9bc6e20dcfaf0a6a7b552d03137558ba1c38aea47644682\n",
            "Successfully built overrides\n",
            "Installing collected packages: overrides\n",
            "Successfully installed overrides-3.1.0\n"
          ]
        }
      ]
    }
  ]
}